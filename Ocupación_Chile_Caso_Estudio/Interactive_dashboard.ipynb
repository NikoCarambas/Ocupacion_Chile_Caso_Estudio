{
 "cells": [
  {
   "attachments": {},
   "cell_type": "markdown",
   "metadata": {},
   "source": [
    "## Interactive Dashboard Map\n",
    "### Objective: Create an interactive map of Chile\n",
    "### Elements: \n",
    "* Boton: Select year.\n",
    "* Map: Map of Chile, with States colored by a data set value.\n",
    "* Take Aways: Visual returns for the total average, the maximun and minimun."
   ]
  },
  {
   "cell_type": "code",
   "execution_count": null,
   "metadata": {},
   "outputs": [],
   "source": []
  }
 ],
 "metadata": {
  "language_info": {
   "name": "python"
  },
  "orig_nbformat": 4
 },
 "nbformat": 4,
 "nbformat_minor": 2
}
