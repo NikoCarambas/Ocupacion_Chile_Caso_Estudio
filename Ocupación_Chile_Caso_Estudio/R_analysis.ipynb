{
 "cells": [
  {
   "attachments": {},
   "cell_type": "markdown",
   "metadata": {},
   "source": [
    "## Caso Estudio: Diferencia de las Tasas de Ocupación por género en Chile\n",
    "_por Nicolás Cavieres_"
   ]
  },
  {
   "attachments": {},
   "cell_type": "markdown",
   "metadata": {},
   "source": [
    "### **Resumen**\n",
    "\n",
    "En general y a lo largo de la última década, Chile ha avanzado en disminuir la barrera de genero presente en la participación laboral. Éstos avances no han sido homogeneos a lo largo de las Regiones que componen éste país y se han vísto afectados en éstos últimos 4 años por la pandemia del Covid-19.\n",
    "En éste estudio se analizará la evidencia sobre la brecha de genero en las Tasas de Ocupación a lo largo de Chile. Primero con una visión general de las diferencias de las Tasas de Ocupación para los años comprendidos desde el 2010 al 2023. Segundo, profundizando en las Regiones que han tenido comportamientos que no siguen la tendencia general del País o tengan algún comportamiento de interés. Y tercero, con el desarrollo de un mapa interactivo que permita a los usuarios el poder visualizar como ha cambiado la distribución de ésta inequidad en las Tasas de Ocupación a lo largo de las Regiones de Chile. "
   ]
  },
  {
   "attachments": {},
   "cell_type": "markdown",
   "metadata": {},
   "source": [
    "### **Acerca del Estudio.**\n",
    "\n",
    "#### Base de datos.\n",
    "Para el estudio se utilizará la base de datos proporcionada por el Instituto Nacional de Estadística (*INE*).\n",
    "\n",
    "[Banco de Datos](https://bancodatosene.ine.cl/)\n",
    "\n",
    "*Fuente Open Source con Licencia Creative Commons*"
   ]
  },
  {
   "attachments": {},
   "cell_type": "markdown",
   "metadata": {},
   "source": [
    "#### Metodología de encuesta.\n",
    "Se podrá acceder a todos los datos disponibles como resultado de la Encuesta Nacional de Empleo.\n",
    "\n",
    "[Ver Formato de Encuesta](https://bancodatosene.ine.cl/Pdf/Cuestionario%20ENE%202016_v20160429.pdf)\n",
    "\n",
    "Pero al haber antecedentes de que el cambio de metodología ha generado distintos resultados para los cálculos, se filtrarán los datos según la metodología usada (2002 vs 2017). [(ver ejemplo de Ñuble)](https://regiones.ine.cl/documentos/default-source/region-xvi/estadisticas-r16/documentos-de-trabajo/an%C3%A1lisis-de-los-principales-indicadores-de-la-ene---impacto-del-nuevo-m%C3%A9todo-de-calibraci%C3%B3n-de-los-factores-de-expansi%C3%B3n-9249.pdf?sfvrsn=34914876_4\n",
    ").\n",
    "\n",
    "[Fundamentos de la nueva metodología](https://www.ine.gob.cl/docs/default-source/documentos-de-trabajo/documento-de-trabajo-fundamentos-de-la-nueva-calibraci%C3%B3n-de-los-factores-de-expansi%C3%B3n-en-la-ene.pdf?sfvrsn=3de3a0e1_4\n",
    ")\n",
    "\n",
    "> Cito: \"En los últimos años se ha puesto en entredicho los principales resultados que coyunturalmente reporta la Encuesta Nacional de Empleo. El principal argumento señala que, la desactualización del marco muestral que utiliza la encuesta, imposibilita incorporar el reciente, pero importante influjo migratorio que ha experimentado Chile y, por tanto, los resultados de la encuesta tampoco incorporan los efectos que dicho fenómeno ha tenido sobre el mercado laboral, llevando a que las cifras entregadas por la encuesta presenten sesgos en alguna dirección, generando la subestimación de algunos indicadores y la sobrestimación de otros.\"\n",
    "\n",
    "La busqueda de reducir los sesgos podría producir diferencias si utilizamos las proyecciones en base a la metodología 2002 y 2017, por lo que se dejarán fuera del analisis las proyecciones en base a la metodología 2002."
   ]
  },
  {
   "attachments": {},
   "cell_type": "markdown",
   "metadata": {},
   "source": [
    "#### Busqueda de datos.\n",
    "Los datos de interés estarán contenidos en las siguientes variables:\n",
    "* Región = Nombre de la Región \n",
    "* Value = Tasa de Ocupacion (%)\n",
    "* Sexo: \n",
    "  * _T = Total\n",
    "  * M = Mujeres\n",
    "  * H = Hombres\n",
    "* Trimestre Móvil = Año Meses\n",
    "* Indicador = Metodología\n",
    "\n",
    "Más información en el enlace:\n",
    "[Definición de las Variables.](https://bancodatosene.ine.cl/pdf/Diccionario%20de%20variables%20Banco%20de%20Datos%20ENE_v20160429.pdf)"
   ]
  },
  {
   "attachments": {},
   "cell_type": "markdown",
   "metadata": {},
   "source": [
    "### **Enfoque del Estudio**\n",
    "\n",
    "La UNESCO define a la participación en la fuerza de trabajo como un elemento fundamental para el empoderamiento social y económico de las personas y de sus comunidades, ya que les ofrece más opciones y recursos, así como una mayor autonomía para realizar la vida que desean [(click para ver el informe)](https://es.unesco.org/creativity/sites/creativity/files/digital-library/cdis/Iguldad%20de%20genero.pdf).\n",
    "Y dentro de los estudios realizados por la OCDE, dentro de los 4 países peor evaluados en la tasa de participación de las Mujeres en la fuerza laboral, está Chile [(click para ver el estudio)](https://www.pwc.co.uk/economic-services/WIWI/pwc-women-in-work-2019-final-web.pdf).\n",
    "Queremos enfocar éste estudio para responder pocas, pero importantes preguntas.\n",
    "* ¿Existe un comportamiento común para todas las Regiones de Chile en la disminución de ésta brecha?\n",
    "* ¿Todas las Regiones han tenido una disminución de ésta brecha?\n",
    "* ¿Ha sido ésta disminución constante en todas las Regiones?\n",
    "* ¿Existe una distribución geográfica para la inequidad en Chile?\n",
    "* ¿Ha cambiado ésta distribución a lo largo del tiempo?"
   ]
  },
  {
   "attachments": {},
   "cell_type": "markdown",
   "metadata": {},
   "source": [
    "### **Manipulación de datos.**\n",
    "\n",
    "Se descargará la base de dato del Banco de Datos del INE para el periodo disponible en la pagina web (2002-2023) y se respaldará con el nombre de \"Tasa_ocupacion_todos_2010_2023.csv\".\n",
    "\n",
    "A continuación se podrá seguir el guión para la manipulación de datos, comenzando con la instalación de las librerías necesarias para éste estudio."
   ]
  },
  {
   "cell_type": "code",
   "execution_count": null,
   "metadata": {
    "vscode": {
     "languageId": "r"
    }
   },
   "outputs": [],
   "source": [
    "install.packages(\"plotly\")\n",
    "library(plotly)\n",
    "install.packages(\"tidyr\")\n",
    "library(tidyr)\n",
    "install.packages(\"dplyr\")\n",
    "library(dplyr)\n",
    "install.packages(\"ggplot2\")\n",
    "library(ggplot2)"
   ]
  },
  {
   "attachments": {},
   "cell_type": "markdown",
   "metadata": {},
   "source": [
    "Se respaldan nuestros archivos en el directorio \"Study_files\" y nuestra base de datos original en la variable \"Tasa_todos\"."
   ]
  },
  {
   "cell_type": "code",
   "execution_count": null,
   "metadata": {
    "vscode": {
     "languageId": "r"
    }
   },
   "outputs": [],
   "source": [
    "setwd(\"Study_files\")\n",
    "Tasa_todos <- read.csv(\"Tasa_ocupacion_todos_2010_2023.csv\")"
   ]
  },
  {
   "attachments": {},
   "cell_type": "markdown",
   "metadata": {},
   "source": [
    "Se verifican los nombres de las columnas y el resumen de nuestra base de dato."
   ]
  },
  {
   "cell_type": "code",
   "execution_count": null,
   "metadata": {
    "vscode": {
     "languageId": "r"
    }
   },
   "outputs": [],
   "source": [
    "colnames(Tasa_todos)\n",
    "head(Tasa_todos)\n",
    "summary(Tasa_todos)"
   ]
  },
  {
   "attachments": {},
   "cell_type": "markdown",
   "metadata": {},
   "source": [
    "Se puede asumir que el INE proveerá una base de datos confiables, pero por protocolo se comprueba la presencia celdas vacías o valores NA.\n",
    "_(Si el output es False, no se encontraron problemas.)_"
   ]
  },
  {
   "cell_type": "code",
   "execution_count": null,
   "metadata": {
    "vscode": {
     "languageId": "r"
    }
   },
   "outputs": [],
   "source": [
    "Tasa_todos <- subset(Tasa_todos, select = -c(Flag.Codes, Flags))\n",
    "any(is.na(Tasa_todos[,1:9]))"
   ]
  },
  {
   "attachments": {},
   "cell_type": "markdown",
   "metadata": {},
   "source": [
    "Se crea una nueva variable (Tasa_todos_2017) con los datos que corresponden a las proyecciones en base a la metodología corregida (2017) y se visualiza esta nueva base de datos filtrada."
   ]
  },
  {
   "cell_type": "code",
   "execution_count": null,
   "metadata": {
    "vscode": {
     "languageId": "r"
    }
   },
   "outputs": [],
   "source": [
    "Tasa_todos_2017 <- Tasa_todos[Tasa_todos$Indicador == \"Tasa de ocupación (proyecciones base 2017)\",]\n",
    "\n",
    "colnames(Tasa_todos_2017)\n",
    "head(Tasa_todos_2017)\n",
    "summary(Tasa_todos_2017)"
   ]
  },
  {
   "attachments": {},
   "cell_type": "markdown",
   "metadata": {},
   "source": [
    "Se exporta esta base de datos para tener un respaldo.\n"
   ]
  },
  {
   "cell_type": "code",
   "execution_count": null,
   "metadata": {
    "vscode": {
     "languageId": "r"
    }
   },
   "outputs": [],
   "source": [
    "write.csv(Tasa_todos_2017, file = \"Tasa_todos_2017.csv\", row.names = FALSE)"
   ]
  },
  {
   "attachments": {},
   "cell_type": "markdown",
   "metadata": {},
   "source": [
    "Se separa la columna de Trimestre Móvil en dos columnas, una para el Año y otra para el Periodo de Meses."
   ]
  },
  {
   "cell_type": "code",
   "execution_count": null,
   "metadata": {
    "vscode": {
     "languageId": "r"
    }
   },
   "outputs": [],
   "source": [
    "Tasa_todos_2017 <- Tasa_todos_2017 %>%\n",
    "  separate(col = Trimestre.Móvil, into = c(\"Año\", \"Periodo_Meses\"), sep = \" \")"
   ]
  },
  {
   "attachments": {},
   "cell_type": "markdown",
   "metadata": {},
   "source": [
    "El valor de las Tasas de Ocupación se agrupa en un valor promedio, retornando un valor promedio para cada año. De ésta forma se podrá hacer referencia a las Tasas de Ocupación Anuales y no a las Tasas de Ocupación por Trimestre Movil."
   ]
  },
  {
   "cell_type": "code",
   "execution_count": null,
   "metadata": {
    "vscode": {
     "languageId": "r"
    }
   },
   "outputs": [],
   "source": [
    "Tasa_todos_2017_avg <- Tasa_todos_2017 %>%\n",
    "  group_by(Año, Región, Sexo) %>%\n",
    "  summarize(Avg_Value = mean(Value))\n",
    "\n",
    "head(Tasa_todos_2017_avg)\n",
    "summary(Tasa_todos_2017_avg)\n",
    "View(Tasa_todos_2017_avg)"
   ]
  },
  {
   "attachments": {},
   "cell_type": "markdown",
   "metadata": {},
   "source": [
    "Si los valores de la columna \"Año\" son leídos como typo string, se cambian a tipo int para no tener problemas de compatibilidad."
   ]
  },
  {
   "cell_type": "code",
   "execution_count": null,
   "metadata": {
    "vscode": {
     "languageId": "r"
    }
   },
   "outputs": [],
   "source": [
    "Tasa_todos_2017_avg$Año <- as.integer(as.character(Tasa_todos_2017_avg$Año))\n",
    "head(Tasa_todos_2017_avg)"
   ]
  },
  {
   "attachments": {},
   "cell_type": "markdown",
   "metadata": {},
   "source": [
    "Para calcular la diferencia entre la Tasa de Ocupación de Hombres y la Tasa de Ocupación de Mujeres se crea una nueva variable (Diferencia_Hombres_Mujeres). Ésta variable tiene un valor en puntos porcentuales, por lo que hay que considerar que cada tasa de ocupación calcula el porcentaje de la población que se encuentra trabajando activamente, con respecto al total de la población en edad de trabajar. De ninguna manera representa cantidades absolutas (ejemplo: TOH = TOM = 60%, ésta igualdad no asegura que existe la misma cantidad de hombres y mujeres trabajando activamente)\n",
    "Los datos se guardan en la variable Diferencia_genero_2017 y son los que se ocuparán para visualizar como se acercan o distancian las Tasas de Ocupación para Hombres y Mujeres."
   ]
  },
  {
   "cell_type": "code",
   "execution_count": null,
   "metadata": {
    "vscode": {
     "languageId": "r"
    }
   },
   "outputs": [],
   "source": [
    "Diferencia_genero_2017 <- Tasa_todos_2017_avg %>%\n",
    "  filter(Sexo != \"Ambos sexos\") %>%\n",
    "  group_by(Año, Región) %>%\n",
    "  summarize(Diferencia_Hombres_Mujeres = Avg_Value[Sexo == \"Hombres\"] -\n",
    "              Avg_Value[Sexo == \"Mujeres\"])\n",
    "\n",
    "View(Diferencia_genero_2017)\n",
    "write.csv(Diferencia_genero_2017, \"Diferencia_genero_2017.csv\", row.names = FALSE)"
   ]
  },
  {
   "attachments": {},
   "cell_type": "markdown",
   "metadata": {},
   "source": [
    "Si se siguen las recomendaciones del sitio web [Data to Viz](https://www.data-to-viz.com/) se puede suponer que:\n",
    "* La mejor forma de graficar los cambios entre Regiones es un gráfico de barras.\n",
    "* La mejor forma de graficar los cambios en un período de tiempo es el grafico lineal.\n",
    "* La mejor forma de encontrar hallazgos en nuestros datos es un gráfico lineal 3D.\n",
    "* Un mapa interactivo es una buena herramienta para que los usuarios puedan llegar por si mismos, a conclusiones similares al estudio."
   ]
  },
  {
   "attachments": {},
   "cell_type": "markdown",
   "metadata": {},
   "source": [
    "### **Análisis.**"
   ]
  },
  {
   "attachments": {},
   "cell_type": "markdown",
   "metadata": {},
   "source": [
    "El código a continuación representa un gráfico de lineas que muestra la variación de las Tasas de Ocupación para el total del País, donde cada color de linea representa una variable distinta para el Sexo (T, M, H)."
   ]
  },
  {
   "cell_type": "code",
   "execution_count": null,
   "metadata": {
    "vscode": {
     "languageId": "r"
    }
   },
   "outputs": [],
   "source": [
    "ggplot(Tasa_todos_2017_avg %>% filter(Región == \"Total país\"), aes(x = Año, y = Avg_Value, color = Sexo, group = Sexo)) + \n",
    "  geom_line() +\n",
    "  scale_color_manual(values = c(\"black\", \"blue\", \"#ff0000\")) +\n",
    "  labs(x = \"Año\", y = \"Tasa\", color = \"Sexo\", subtitle = \"Valores para el total del país\") +\n",
    "  ggtitle(\"Tasa de Ocupación periodo 2010-2023\") +\n",
    "  theme(plot.title = element_text(hjust = 0.5))"
   ]
  },
  {
   "attachments": {},
   "cell_type": "markdown",
   "metadata": {},
   "source": [
    "Se observa un cambio de tendencia a la baja en la Diferencia entre las Tasas de Ocupación para el período 2018-2020, para los valores que representan el total del País. \n",
    "Para saber que Región ha tenido una mayor diferencia en promedio a lo largo de los años se calcula el promedio de los valores por Región, para el periodo de tiempo completo (2010-2023)."
   ]
  },
  {
   "cell_type": "code",
   "execution_count": null,
   "metadata": {
    "vscode": {
     "languageId": "r"
    }
   },
   "outputs": [],
   "source": [
    "total_avg_2010_2023 <- Diferencia_genero_2017 %>% \n",
    "  group_by(Región) %>% \n",
    "  summarize(avg_diff = mean(Diferencia_Hombres_Mujeres))\n",
    "\n",
    "View(total_avg_2010_2023)"
   ]
  },
  {
   "attachments": {},
   "cell_type": "markdown",
   "metadata": {},
   "source": [
    "En el gráfico final se incluirán las Regiones con los valores máximos y mínimos de éste gráfico, datos que se buscamos de dos formas:\n",
    "  * Agregando etiquetas en el gráfico\n",
    "  * Manipulando la base de datos."
   ]
  },
  {
   "cell_type": "code",
   "execution_count": null,
   "metadata": {
    "vscode": {
     "languageId": "r"
    }
   },
   "outputs": [],
   "source": [
    "# Gráfico de barras con etiquetas\n",
    "ggplot(total_avg_2010_2023, aes(x = Región, y = avg_diff)) +\n",
    "  geom_bar(stat = \"identity\", fill = \"darkblue\") +\n",
    "  geom_text(aes(label = ifelse(avg_diff == max(avg_diff), round(avg_diff,2), \"\")), \n",
    "            vjust = -1, size = 3) +\n",
    "  geom_text(aes(label = ifelse(avg_diff == min(avg_diff), round(avg_diff,2), \"\")), \n",
    "            vjust = -1, size = 3) +\n",
    "  labs(x = \"Región\", y = \"Diferencia promedio\", title = \"Promedio de la diferencia entre Hombres y Mujeres\",\n",
    "       subtitle = \"Periodo 2010-2023, proyecciones base 2017\") +\n",
    "  ggtitle(\"Diferencia Hombres-Mujeres por Región\") +\n",
    "  theme(plot.title = element_text(hjust = 0.5),\n",
    "        plot.subtitle = element_text(hjust = 0.5),\n",
    "        axis.text.x = element_text(angle = 45, vjust = 0.5, size = 5)) +\n",
    "  scale_y_continuous(expand = expansion(mult = c(0.2, 0.2)))"
   ]
  },
  {
   "cell_type": "code",
   "execution_count": null,
   "metadata": {
    "vscode": {
     "languageId": "r"
    }
   },
   "outputs": [],
   "source": [
    "# Busqueda por base de datos\n",
    "# Busqueda de los valores máximos y mínimos\n",
    "max_avg <- max(total_avg_2010_2023$avg_diff)\n",
    "min_avg <- min(total_avg_2010_2023$avg_diff)\n",
    "# Busqueda de las Regiones a las que corresponden esos valores\n",
    "max_reg <- total_avg_2010_2023$Región[which.max(total_avg_2010_2023$avg_diff)]\n",
    "min_reg <- total_avg_2010_2023$Región[which.min(total_avg_2010_2023$avg_diff)]\n",
    "\n",
    "# Guardamos los valores en vectores para confirmar que coinciden\n",
    "min_avg_Region <- c(min_avg, min_reg)\n",
    "max_avg_Region <- c(max_avg, max_reg)\n",
    "\n",
    "# Retornamos los valores que nos interesan.\n",
    "cat(min_avg_Region)\n",
    "cat(max_avg_Region)"
   ]
  },
  {
   "attachments": {},
   "cell_type": "markdown",
   "metadata": {},
   "source": [
    "##### Gráfico Linea 3D.\n",
    "\n",
    "El objetivo de éste grafico es buscar puntos de interés que escapen la tendencia general, así como comparar el comportamiento de la Diferencia de Tasas de Ocupación de cada Región a lo largo del tiempo.\n",
    "\n",
    "Usamos un color para cada año, retiramos la etiqueta de Regiones para que no interfiera con nuestra visual y las agregamos en la función de desplazamiento del ratón.\n",
    "También especificamos que los años deben ser secuenciados en 1 unidad y agregamos los colores suficientes a la paleta de colores \"Dark2\" que viene integrada con nuestra biblioteca, para abarcar el número de años en el gráfico.\n",
    "Si aún así es dificil visualizar los datos, pensemos que cada linea es una representación de Chile, y cada color representa el mapa de Chile en un Año distinto."
   ]
  },
  {
   "cell_type": "code",
   "execution_count": null,
   "metadata": {
    "vscode": {
     "languageId": "r"
    }
   },
   "outputs": [],
   "source": [
    "# Paleta de colores\n",
    "library(RColorBrewer)\n",
    "# Define a palette with 8 dark colors\n",
    "pal <- brewer.pal(8, \"Dark2\")\n",
    "# Add 6 more colors by interpolating between adjacent colors\n",
    "pal <- colorRampPalette(pal)(14)\n",
    "\n",
    "Diferencia_genero_2017 %>%\n",
    "  plot_ly(x = ~Región, y = ~Año, z = ~Diferencia_Hombres_Mujeres,\n",
    "          type = \"scatter3d\", mode = \"lines\", line = list(width = 2),\n",
    "          color = ~as.factor(Año),\n",
    "          colors = pal) %>%\n",
    "  layout(scene = list(xaxis = list(title = \"Región\", showticklabels = FALSE, \n",
    "                                   ticktext = ~Región, \n",
    "                                   tickvals = ~Región),\n",
    "                      yaxis = list(title = \"Año\", tickmode = \"array\",\n",
    "                                   tickvals = seq(2005, 2030, by = 1)),\n",
    "                      zaxis = list(title = \"Diferencia en ptos %\")))\n"
   ]
  },
  {
   "attachments": {},
   "cell_type": "markdown",
   "metadata": {},
   "source": [
    "Se puede aseverar de éste gráfico que:\n",
    "* La Región de Atacama tiene la diferencia de Tasas de Ocupación historica más alta para el periodo 2010-2023.\n",
    "* El valor más bajo para la diferencia de Tasas de Ocupación para el periodo 2010-2023 es en la Región de Aysen del Gral. Carlos Ibáñez del Campo.\n",
    "* Hay una marcada tendencia en la variación de la diferencia de Tasas de Ocupación en todas las Regiones para el periodo de tiempo 2019-2020\n",
    "* El valor más alto para la diferencia de Tasas de Ocupación para el periodo 2018-2023 es en la Región de Ñuble.\n",
    "\n",
    "Agregamos marcadores relacionados a éstos hallazgos en el gráfico, para que sea más fácil ver los hallazgos de éste gráfico."
   ]
  },
  {
   "cell_type": "code",
   "execution_count": null,
   "metadata": {
    "vscode": {
     "languageId": "r"
    }
   },
   "outputs": [],
   "source": [
    "Diferencia_genero_2017 %>%\n",
    "  plot_ly(x = ~Región, y = ~Año, z = ~Diferencia_Hombres_Mujeres,\n",
    "          type = \"scatter3d\", mode = \"lines\", line = list(width = 2),\n",
    "          color = ~as.factor(Año),\n",
    "          colors = pal) %>%\n",
    "  layout(scene = list(xaxis = list(title = \"Región\", showticklabels = FALSE),\n",
    "                      yaxis = list(title = \"Año\", tickmode = \"array\",\n",
    "                                   tickvals = seq(2005, 2030, by = 1)),\n",
    "                      zaxis = list(title = \"Diferencia en ptos %\"))) %>%\n",
    "  add_trace(x = c(\"Región de Ñuble\"), y = c(2020), z = c(26.256), \n",
    "            type = \"scatter3d\", mode = \"markers\",\n",
    "            marker = list(color = \"black\", size = 8),\n",
    "            text = \"x == Región de Ñuble y ==2020 z == 26.256\") %>%\n",
    "  add_trace(x = c(\"Región de Antofagasta\"), y = c(2013), z = c(33.40739),\n",
    "            type = \"scatter3d\", mode = \"markers\",\n",
    "            marker = list(color = \"black\", size = 8),\n",
    "            text = \"x == Región de Antofagasta y ==2013 z == 33.40739\") %>%\n",
    "  add_trace(x = c(\"Región de Aysén del Gral. Carlos Ibáñez del Campo\"), y = c(2018), z = c(14.21345),\n",
    "            type = \"scatter3d\", mode = \"markers\",\n",
    "            marker = list(color = \"black\", size = 8),\n",
    "            text = \"x == Región de Ayzén del Gral. Carlos Ibáñez del Campo y ==2018 z == 14.21345\")"
   ]
  },
  {
   "attachments": {},
   "cell_type": "markdown",
   "metadata": {},
   "source": [
    "![image_name](Study_files/Side3D.png)\n",
    "![image_name](Study_files/Front3D.png)\n"
   ]
  },
  {
   "attachments": {},
   "cell_type": "markdown",
   "metadata": {},
   "source": [
    "Para entender mejor el comportamiento de las Regiones relacionadas a éstos puntos de interes, delimitaremos éste gráfico a las Región de interés y los valores totales del País en un sistema 2D."
   ]
  },
  {
   "attachments": {},
   "cell_type": "markdown",
   "metadata": {},
   "source": [
    "Nuestras Regiones de interés son:\n",
    "* 1. Región de Antofagasta\n",
    "* 2. Región de Aysén del Gral. Carlos Ibañez del Campo\n",
    "* 3. Región de Atacama\n",
    "* 4. Región de Ñuble\n",
    "* 5. Total País"
   ]
  },
  {
   "cell_type": "code",
   "execution_count": null,
   "metadata": {
    "vscode": {
     "languageId": "r"
    }
   },
   "outputs": [],
   "source": [
    "regions_interest<-c(\"Región de Antofagasta\", \"Región de Aysén del Gral. Carlos Ibáñez del Campo\", \n",
    "                      \"Región de Atacama\", \"Región de Ñuble\", \"Total país\")\n",
    "\n",
    "filtered_data <- filter(Diferencia_genero_2017, Región %in% regions_interest)\n",
    "\n",
    "options(repr.plot.width=10, repr.plot.height=5)\n",
    "\n",
    "ggplot(filtered_data, aes(x = Año, y = Diferencia_Hombres_Mujeres, color = Región)) +\n",
    "  geom_line() +\n",
    "  geom_point() +\n",
    "  scale_x_continuous(breaks = seq(2006, 2026, 1)) +\n",
    "  labs(title = \"Diferencia de género en años\",\n",
    "       x = \"Año\",\n",
    "       y = \"Diferencia de Hombres y Mujeres\")"
   ]
  },
  {
   "attachments": {},
   "cell_type": "markdown",
   "metadata": {},
   "source": [
    "Agregamos los puntos que corresponden a los valores guardados en el gráfico 3D."
   ]
  },
  {
   "cell_type": "code",
   "execution_count": null,
   "metadata": {
    "vscode": {
     "languageId": "r"
    }
   },
   "outputs": [],
   "source": [
    "options(repr.plot.width=10, repr.plot.height=5)\n",
    "\n",
    "# Create markers data frame\n",
    "markers_data <- data.frame(Región = c(\"Región de Ñuble\", \"Región de Antofagasta\", \"Región de Aysén del Gral. Carlos Ibáñez del Campo\"),\n",
    "                            Diferencia_Hombres_Mujeres = c(26.256, 33.40739, 14.21345),\n",
    "                            Año = c(2020, 2013, 2018))\n",
    "\n",
    "# Create plot\n",
    "ggplot(filtered_data, aes(x = Año, y = Diferencia_Hombres_Mujeres, color = Región)) +\n",
    "  geom_line() +\n",
    "  geom_text(data = markers_data, aes(x = Año, y = Diferencia_Hombres_Mujeres + 1, label = paste(Región, Diferencia_Hombres_Mujeres, sep = \": \")), size = 3, vjust = -0.5, color = \"black\") +\n",
    "  geom_point(data = markers_data, aes(x = Año, y = Diferencia_Hombres_Mujeres, color = Región), size = 5) +\n",
    "  scale_x_continuous(breaks = seq(2006, 2026, 1)) +\n",
    "  labs(title = \"Diferencia de género en años\",\n",
    "       x = \"Año\",\n",
    "       y = \"Diferencia de Hombres y Mujeres\")"
   ]
  },
  {
   "attachments": {},
   "cell_type": "markdown",
   "metadata": {},
   "source": [
    "### **Conclusiones.**"
   ]
  },
  {
   "attachments": {},
   "cell_type": "markdown",
   "metadata": {},
   "source": [
    "* En general, todas las Regiones de Chile han tenido una disminución en la diferencia de Tasas de Ocupación para Hombres y Mujeres a lo largo del periodo 2010-2023\n",
    "* La Región de Ñuble ha tenido una baja disminución de la diferencia de Tasas de Ocupación en comparación a las otras Regiones de Chile.\n",
    "* Las Regiones del norte de Chile han tenido una buena disminución desde sus valores iniciales para la diferencia en las Tasas de Ocupación entre Hombres y Mujeres.\n",
    "* Hay una marcada tendencia en todas las Regiones de Chile, aumentando la diferencia en las Tasas de Ocupación entre Hombres y Mujeres, para el periodo de años que coincide con la pandemia Covid-19 en Chile (Marzo 2020 - Septiembre 2021 - [Información del Minsal](https://www.gob.cl/pasoapaso/)).\n",
    "* La pandemia Covid-19 en Chile aumentó la diferencia en las Tasas de Ocupación entre Hombres y Mujeres.\n",
    "* Al año 2023, la Región con mayor inequidad en la Tasa de Ocupación es la Región de Ñuble."
   ]
  },
  {
   "attachments": {},
   "cell_type": "markdown",
   "metadata": {},
   "source": [
    "### **Futuros Análisis.**"
   ]
  },
  {
   "attachments": {},
   "cell_type": "markdown",
   "metadata": {},
   "source": [
    "La inequidad de genero debe ser abordada como un problema con multiples dimensiones, por ésto sería interesante contrastar la variación de la diferencia de las Tasas de Ocupación con otras variables como gasto Fiscal en la disminución de la brecha de genero para cada Región, porcentaje de escolaridad, indicadores de violencia de género, etc.\n",
    "\n",
    "Es conocido que a nivel mundial, la inequidad de género aumentó como consecuencia de las secuelas económicas y de la Salud de las personas de la Pandemia Covid-19.\n",
    ">Cito: \"los resultados de la cuarta encuesta de violencia contra las mujeres dados a conocer por el Ministerio de la Mujer y de la Equidad de Género, en el indicador de “violencia general vida”, presentó un aumento estadísticamente significativo entre las mediciones de 2017 y 2020, pasando de un 38,2% a un 41,4%\" -Julia Fawaz, Chile 2022- [enlace de la noticia](http://noticias.ubiobio.cl/2020/10/09/centro-de-estudios-nuble-realizo-conversatorio-distanciadas-pero-unidas-contra-la-violencia/)"
   ]
  },
  {
   "attachments": {},
   "cell_type": "markdown",
   "metadata": {},
   "source": [
    "Es importante que se pueda generar un abordaje dinámico a la Equidad de Género, que permita redestinar y adaptar los esfuerzos del País hacia las Regiones más afectadas o con una menor capacidad de hacer frente a éste problema.\n",
    "\n",
    "Por éso en el siguiente archivo se ha creado un Mapa interactivo, que grafica de forma dinámica ésta inequidad en las Tasas de Ocupación y permite a los usuarios identificarse con los problemas que hemos analizado en éste estudio."
   ]
  }
 ],
 "metadata": {
  "kernelspec": {
   "display_name": "R",
   "language": "R",
   "name": "ir"
  },
  "language_info": {
   "codemirror_mode": "r",
   "file_extension": ".r",
   "mimetype": "text/x-r-source",
   "name": "R",
   "pygments_lexer": "r",
   "version": "4.3.0"
  },
  "orig_nbformat": 4
 },
 "nbformat": 4,
 "nbformat_minor": 2
}
